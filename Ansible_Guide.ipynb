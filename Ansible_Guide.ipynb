{
  "nbformat": 4,
  "nbformat_minor": 0,
  "metadata": {
    "colab": {
      "name": "Ansible-Guide.ipynb",
      "version": "0.3.2",
      "provenance": []
    },
    "kernelspec": {
      "name": "python3",
      "display_name": "Python 3"
    }
  },
  "cells": [
    {
      "cell_type": "markdown",
      "metadata": {
        "id": "view-in-github",
        "colab_type": "text"
      },
      "source": [
        "[View in Colaboratory](https://colab.research.google.com/github/coleman-word/Colab-Notebook/blob/master/Ansible_Guide.ipynb)"
      ]
    },
    {
      "metadata": {
        "id": "2wDcwdqagoo9",
        "colab_type": "text"
      },
      "cell_type": "markdown",
      "source": [
        "# Example Playbooks"
      ]
    },
    {
      "metadata": {
        "id": "A8wFFY6HkdmB",
        "colab_type": "toc"
      },
      "cell_type": "markdown",
      "source": [
        ">[Example Playbooks](#updateTitle=true&folderId=1RmTu1U3Lw-zFE3Q8gU5mWTFP3Q95z77t&scrollTo=2wDcwdqagoo9)\n",
        "\n",
        ">>>[One Play](#updateTitle=true&folderId=1RmTu1U3Lw-zFE3Q8gU5mWTFP3Q95z77t&scrollTo=Bryj2lBvg8YQ)\n",
        "\n",
        ">>>[Multiple Plays](#updateTitle=true&folderId=1RmTu1U3Lw-zFE3Q8gU5mWTFP3Q95z77t&scrollTo=GndVtYWfg_ID)\n",
        "\n",
        ">>[Hosts](#updateTitle=true&folderId=1RmTu1U3Lw-zFE3Q8gU5mWTFP3Q95z77t&scrollTo=rsndIQMVhEPZ)\n",
        "\n",
        ">>>[The hosts line is a list of one or more groups or host patterns, separated by colons, as described in the Working with Patterns documentation. The remote_user is just the name of the user account:](#updateTitle=true&folderId=1RmTu1U3Lw-zFE3Q8gU5mWTFP3Q95z77t&scrollTo=2JSZ70mmhYrQ)\n",
        "\n",
        ">>>[Remote users can also be defined per task:](#updateTitle=true&folderId=1RmTu1U3Lw-zFE3Q8gU5mWTFP3Q95z77t&scrollTo=KYsWXjq8hV1d)\n",
        "\n",
        ">>>[Support for running things as another user is also available (see Understanding Privilege Escalation):](#updateTitle=true&folderId=1RmTu1U3Lw-zFE3Q8gU5mWTFP3Q95z77t&scrollTo=btHQLGWlhaY5)\n",
        "\n",
        ">>>[You can also use become on a particular task instead of the whole play:](#updateTitle=true&folderId=1RmTu1U3Lw-zFE3Q8gU5mWTFP3Q95z77t&scrollTo=X9_OYvCjhebj)\n",
        "\n",
        ">>>[You can also login as you, and then become a user different than root:](#updateTitle=true&folderId=1RmTu1U3Lw-zFE3Q8gU5mWTFP3Q95z77t&scrollTo=8Ct66FUkhfm4)\n",
        "\n",
        ">>>[You can also use other privilege escalation methods, like su:](#updateTitle=true&folderId=1RmTu1U3Lw-zFE3Q8gU5mWTFP3Q95z77t&scrollTo=KPuKIWWVhlqc)\n",
        "\n",
        ">>>[You can also control the order in which hosts are run. The default is to follow the order supplied by the inventory:](#updateTitle=true&folderId=1RmTu1U3Lw-zFE3Q8gU5mWTFP3Q95z77t&scrollTo=q9IbkuPZhxpT)\n",
        "\n",
        ">>>[Possible values for order:](#updateTitle=true&folderId=1RmTu1U3Lw-zFE3Q8gU5mWTFP3Q95z77t&scrollTo=wcAnMFKHh9P2)\n",
        "\n",
        ">>[Tasks](#updateTitle=true&folderId=1RmTu1U3Lw-zFE3Q8gU5mWTFP3Q95z77t&scrollTo=UmFXy-hQiEP9)\n",
        "\n",
        ">>>[Here is what a basic task looks like. As with most modules, the service module takes key=value arguments:](#updateTitle=true&folderId=1RmTu1U3Lw-zFE3Q8gU5mWTFP3Q95z77t&scrollTo=uCHIzoa4iG93)\n",
        "\n",
        ">>>[The command and shell modules are the only modules that just take a list of arguments and don’t use the key=value form. This makes them work as simply as you would expect:](#updateTitle=true&folderId=1RmTu1U3Lw-zFE3Q8gU5mWTFP3Q95z77t&scrollTo=leZc7qI0jCsv)\n",
        "\n",
        ">>>[The command and shell module care about return codes, so if you have a command whose successful exit code is not zero, you may wish to do this:](#updateTitle=true&folderId=1RmTu1U3Lw-zFE3Q8gU5mWTFP3Q95z77t&scrollTo=VnYAv2DBjCPP)\n",
        "\n",
        ">>>[Or this:](#updateTitle=true&folderId=1RmTu1U3Lw-zFE3Q8gU5mWTFP3Q95z77t&scrollTo=ObIzrsfvjB1n)\n",
        "\n",
        ">>>[If the action line is getting too long for comfort you can break it on a space and indent any continuation lines:](#updateTitle=true&folderId=1RmTu1U3Lw-zFE3Q8gU5mWTFP3Q95z77t&scrollTo=E3XV-wuMjBbd)\n",
        "\n",
        ">>>[Variables can be used in action lines. Suppose you defined a variable called vhost in the vars section, you could do this:](#updateTitle=true&folderId=1RmTu1U3Lw-zFE3Q8gU5mWTFP3Q95z77t&scrollTo=DPtfaizEjA-V)\n",
        "\n",
        ">>>[Early versions of Ansible used the following format, which still works:](#updateTitle=true&folderId=1RmTu1U3Lw-zFE3Q8gU5mWTFP3Q95z77t&scrollTo=ztAk1gabi_4J)\n",
        "\n",
        ">>[Handlers](#updateTitle=true&folderId=1RmTu1U3Lw-zFE3Q8gU5mWTFP3Q95z77t&scrollTo=tsCo2PDNiXr7)\n",
        "\n",
        ">>>[Here’s an example of restarting two services when the contents of a file change, but only if the file changes:](#updateTitle=true&folderId=1RmTu1U3Lw-zFE3Q8gU5mWTFP3Q95z77t&scrollTo=nN89alcJi7-K)\n",
        "\n",
        ">>>[Here’s an example handlers section:### New Section](#updateTitle=true&folderId=1RmTu1U3Lw-zFE3Q8gU5mWTFP3Q95z77t&scrollTo=WEt1RSCgi3TT)\n",
        "\n",
        ">>>[As of Ansible 2.2, handlers can also “listen” to generic topics, and tasks can notify those topics as follows:](#updateTitle=true&folderId=1RmTu1U3Lw-zFE3Q8gU5mWTFP3Q95z77t&scrollTo=LJjtZ_NJi0UH)\n",
        "\n",
        ">>>[If you ever want to flush all the handler commands immediately you can do this:](#updateTitle=true&folderId=1RmTu1U3Lw-zFE3Q8gU5mWTFP3Q95z77t&scrollTo=x5D78R3-iyfy)\n",
        "\n",
        ">>[Execution](#updateTitle=true&folderId=1RmTu1U3Lw-zFE3Q8gU5mWTFP3Q95z77t&scrollTo=cJyjFznKii_6)\n",
        "\n",
        ">>[Ansible-Pull](#updateTitle=true&folderId=1RmTu1U3Lw-zFE3Q8gU5mWTFP3Q95z77t&scrollTo=z4tOQRujio0P)\n",
        "\n",
        ">>[Tips and Tricks](#updateTitle=true&folderId=1RmTu1U3Lw-zFE3Q8gU5mWTFP3Q95z77t&scrollTo=BZfK_94qiqXH)\n",
        "\n",
        ">>[Role Directory Structure](#updateTitle=true&folderId=1RmTu1U3Lw-zFE3Q8gU5mWTFP3Q95z77t&scrollTo=3mG2iy07jciV)\n",
        "\n",
        ">>>[Roles expect files to be in certain directory names.](#updateTitle=true&folderId=1RmTu1U3Lw-zFE3Q8gU5mWTFP3Q95z77t&scrollTo=j5Az_aiCjdeN)\n",
        "\n",
        ">>[Using Roles](#updateTitle=true&folderId=1RmTu1U3Lw-zFE3Q8gU5mWTFP3Q95z77t&scrollTo=V9qoP0lmjmYz)\n",
        "\n",
        ">>>[This designates the following behaviors, for each role ‘x’:](#updateTitle=true&folderId=1RmTu1U3Lw-zFE3Q8gU5mWTFP3Q95z77t&scrollTo=m1xI1wdkjsq2)\n",
        "\n",
        ">>>[As of Ansible 2.4, you can now use roles inline with any other tasks using import_role or include_role:](#updateTitle=true&folderId=1RmTu1U3Lw-zFE3Q8gU5mWTFP3Q95z77t&scrollTo=9p46fRcVjxYP)\n",
        "\n",
        ">>>[The name used for the role can be a simple name (see Role Search Path below), or it can be a fully qualified path:](#updateTitle=true&folderId=1RmTu1U3Lw-zFE3Q8gU5mWTFP3Q95z77t&scrollTo=16nDFv9ajz7Y)\n",
        "\n",
        ">>>[Roles can accept parameters:](#updateTitle=true&folderId=1RmTu1U3Lw-zFE3Q8gU5mWTFP3Q95z77t&scrollTo=hV9-fZgDj6AG)\n",
        "\n",
        ">>>[Or, using the newer syntax:](#updateTitle=true&folderId=1RmTu1U3Lw-zFE3Q8gU5mWTFP3Q95z77t&scrollTo=J9XoyZBYj8xI)\n",
        "\n",
        ">>>[You can conditionally execute a role. This is not generally recommended with the classic syntax, but is common when using import_role or include_role:](#updateTitle=true&folderId=1RmTu1U3Lw-zFE3Q8gU5mWTFP3Q95z77t&scrollTo=0TOgiwKYkCoK)\n",
        "\n",
        ">>>[Finally, you may wish to assign tags to the roles you specify. You can do so inline:](#updateTitle=true&folderId=1RmTu1U3Lw-zFE3Q8gU5mWTFP3Q95z77t&scrollTo=qQFqLmAMkGuu)\n",
        "\n",
        ">>>[Or, again, using the newer syntax:](#updateTitle=true&folderId=1RmTu1U3Lw-zFE3Q8gU5mWTFP3Q95z77t&scrollTo=hwA1xniekLhk)\n",
        "\n",
        ">>[Role Duplication and Execution](#updateTitle=true&folderId=1RmTu1U3Lw-zFE3Q8gU5mWTFP3Q95z77t&scrollTo=MvbxhNhTkUC3)\n",
        "\n",
        ">>>[playbook.yml](#updateTitle=true&folderId=1RmTu1U3Lw-zFE3Q8gU5mWTFP3Q95z77t&scrollTo=MvbxhNhTkUC3)\n",
        "\n",
        ">>>>[roles/foo/meta/main.yml](#updateTitle=true&folderId=1RmTu1U3Lw-zFE3Q8gU5mWTFP3Q95z77t&scrollTo=MvbxhNhTkUC3)\n",
        "\n"
      ]
    },
    {
      "metadata": {
        "id": "Bryj2lBvg8YQ",
        "colab_type": "text"
      },
      "cell_type": "markdown",
      "source": [
        "### One Play"
      ]
    },
    {
      "metadata": {
        "id": "Ig0ucEj4gneH",
        "colab_type": "code",
        "colab": {}
      },
      "cell_type": "code",
      "source": [
        "---\n",
        "- hosts: webservers\n",
        "  vars:\n",
        "    http_port: 80\n",
        "    max_clients: 200\n",
        "  remote_user: root\n",
        "  tasks:\n",
        "  - name: ensure apache is at the latest version\n",
        "    yum:\n",
        "      name: httpd\n",
        "      state: latest\n",
        "  - name: write the apache config file\n",
        "    template:\n",
        "      src: /srv/httpd.j2\n",
        "      dest: /etc/httpd.conf\n",
        "    notify:\n",
        "    - restart apache\n",
        "  - name: ensure apache is running\n",
        "    service:\n",
        "      name: httpd\n",
        "      state: started\n",
        "  handlers:\n",
        "    - name: restart apache\n",
        "      service:\n",
        "        name: httpd\n",
        "        state: restarted"
      ],
      "execution_count": 0,
      "outputs": []
    },
    {
      "metadata": {
        "id": "GndVtYWfg_ID",
        "colab_type": "text"
      },
      "cell_type": "markdown",
      "source": [
        "### Multiple Plays"
      ]
    },
    {
      "metadata": {
        "id": "FeZb943cg5pJ",
        "colab_type": "code",
        "colab": {}
      },
      "cell_type": "code",
      "source": [
        "---\n",
        "- hosts: webservers\n",
        "  remote_user: root\n",
        "\n",
        "  tasks:\n",
        "  - name: ensure apache is at the latest version\n",
        "    yum:\n",
        "      name: httpd\n",
        "      state: latest\n",
        "  - name: write the apache config file\n",
        "    template:\n",
        "      src: /srv/httpd.j2\n",
        "      dest: /etc/httpd.conf\n",
        "\n",
        "- hosts: databases\n",
        "  remote_user: root\n",
        "\n",
        "  tasks:\n",
        "  - name: ensure postgresql is at the latest version\n",
        "    yum:\n",
        "      name: postgresql\n",
        "      state: latest\n",
        "  - name: ensure that postgresql is started\n",
        "    service:\n",
        "      name: postgresql\n",
        "      state: started"
      ],
      "execution_count": 0,
      "outputs": []
    },
    {
      "metadata": {
        "id": "rsndIQMVhEPZ",
        "colab_type": "text"
      },
      "cell_type": "markdown",
      "source": [
        "## Hosts"
      ]
    },
    {
      "metadata": {
        "id": "2JSZ70mmhYrQ",
        "colab_type": "text"
      },
      "cell_type": "markdown",
      "source": [
        "### The hosts line is a list of one or more groups or host patterns, separated by colons, as described in the Working with Patterns documentation. The remote_user is just the name of the user account:"
      ]
    },
    {
      "metadata": {
        "id": "3-K2DhUqhF6v",
        "colab_type": "code",
        "colab": {}
      },
      "cell_type": "code",
      "source": [
        "---\n",
        "- hosts: webservers\n",
        "  remote_user: root"
      ],
      "execution_count": 0,
      "outputs": []
    },
    {
      "metadata": {
        "id": "KYsWXjq8hV1d",
        "colab_type": "text"
      },
      "cell_type": "markdown",
      "source": [
        "### Remote users can also be defined per task:\n",
        "\n"
      ]
    },
    {
      "metadata": {
        "id": "e7h6rfTFhG9l",
        "colab_type": "code",
        "colab": {}
      },
      "cell_type": "code",
      "source": [
        "---\n",
        "- hosts: webservers\n",
        "  remote_user: root\n",
        "  tasks:\n",
        "    - name: test connection\n",
        "      ping:\n",
        "      remote_user: yourname\n",
        "Support for running things as"
      ],
      "execution_count": 0,
      "outputs": []
    },
    {
      "metadata": {
        "id": "btHQLGWlhaY5",
        "colab_type": "text"
      },
      "cell_type": "markdown",
      "source": [
        "### Support for running things as another user is also available (see Understanding Privilege Escalation):\n",
        "\n"
      ]
    },
    {
      "metadata": {
        "id": "XBLvRpLdhOli",
        "colab_type": "code",
        "colab": {}
      },
      "cell_type": "code",
      "source": [
        "---\n",
        "- hosts: webservers\n",
        "  remote_user: yourname\n",
        "  become: yes"
      ],
      "execution_count": 0,
      "outputs": []
    },
    {
      "metadata": {
        "id": "X9_OYvCjhebj",
        "colab_type": "text"
      },
      "cell_type": "markdown",
      "source": [
        "### You can also use become on a particular task instead of the whole play:\n",
        "\n"
      ]
    },
    {
      "metadata": {
        "id": "MFiVowNuhSpa",
        "colab_type": "code",
        "colab": {}
      },
      "cell_type": "code",
      "source": [
        "---\n",
        "- hosts: webservers\n",
        "  remote_user: yourname\n",
        "  tasks:\n",
        "    - service:\n",
        "        name: nginx\n",
        "        state: started\n",
        "      become: yes\n",
        "      become_method: sudo"
      ],
      "execution_count": 0,
      "outputs": []
    },
    {
      "metadata": {
        "id": "8Ct66FUkhfm4",
        "colab_type": "text"
      },
      "cell_type": "markdown",
      "source": [
        "### You can also login as you, and then become a user different than root:\n",
        "\n"
      ]
    },
    {
      "metadata": {
        "id": "n_RwOh50hiRC",
        "colab_type": "code",
        "colab": {}
      },
      "cell_type": "code",
      "source": [
        "---\n",
        "- hosts: webservers\n",
        "  remote_user: yourname\n",
        "  become: yes\n",
        "  become_user: postgres"
      ],
      "execution_count": 0,
      "outputs": []
    },
    {
      "metadata": {
        "id": "KPuKIWWVhlqc",
        "colab_type": "text"
      },
      "cell_type": "markdown",
      "source": [
        "### You can also use other privilege escalation methods, like su:\n",
        "\n"
      ]
    },
    {
      "metadata": {
        "id": "BRgUAuSIhnqd",
        "colab_type": "code",
        "colab": {}
      },
      "cell_type": "code",
      "source": [
        "---\n",
        "- hosts: webservers\n",
        "  remote_user: yourname\n",
        "  become: yes\n",
        "  become_method: su"
      ],
      "execution_count": 0,
      "outputs": []
    },
    {
      "metadata": {
        "id": "gmlpLiGOhs92",
        "colab_type": "text"
      },
      "cell_type": "markdown",
      "source": [
        "If you need to specify a password to sudo, run ansible-playbook with --ask-become-pass or when using the old sudo syntax --ask-sudo-pass (-K). If you run a become playbook and the playbook seems to hang, it’s probably stuck at the privilege escalation prompt. Just Control-C to kill it and run it again adding the appropriate password."
      ]
    },
    {
      "metadata": {
        "id": "q9IbkuPZhxpT",
        "colab_type": "text"
      },
      "cell_type": "markdown",
      "source": [
        "### You can also control the order in which hosts are run. The default is to follow the order supplied by the inventory:"
      ]
    },
    {
      "metadata": {
        "id": "iO-Qw2L2hy19",
        "colab_type": "code",
        "colab": {}
      },
      "cell_type": "code",
      "source": [
        "- hosts: all\n",
        "  order: sorted\n",
        "  gather_facts: False\n",
        "  tasks:\n",
        "    - debug:\n",
        "        var: inventory_hostname"
      ],
      "execution_count": 0,
      "outputs": []
    },
    {
      "metadata": {
        "id": "wcAnMFKHh9P2",
        "colab_type": "text"
      },
      "cell_type": "markdown",
      "source": [
        "### Possible values for order:\n"
      ]
    },
    {
      "metadata": {
        "id": "fyJnOHZYiBGF",
        "colab_type": "text"
      },
      "cell_type": "markdown",
      "source": [
        "inventory:\n",
        "The default. The order is ‘as provided’ by the inventory\n",
        "reverse_inventory:\n",
        "As the name implies, this reverses the order ‘as provided’ by the inventory\n",
        "sorted:\n",
        "Hosts are alphabetically sorted by name\n",
        "reverse_sorted:\n",
        "Hosts are sorted by name in reverse alphabetical order\n",
        "shuffle:\n",
        "Hosts are randomly ordered each run"
      ]
    },
    {
      "metadata": {
        "id": "UmFXy-hQiEP9",
        "colab_type": "text"
      },
      "cell_type": "markdown",
      "source": [
        "## Tasks"
      ]
    },
    {
      "metadata": {
        "id": "e5fpK55WiF9J",
        "colab_type": "text"
      },
      "cell_type": "markdown",
      "source": [
        "Tasks list\n",
        "Each play contains a list of tasks. Tasks are executed in order, one at a time, against all machines matched by the host pattern, before moving on to the next task. It is important to understand that, within a play, all hosts are going to get the same task directives. It is the purpose of a play to map a selection of hosts to tasks.\n",
        "\n",
        "When running the playbook, which runs top to bottom, hosts with failed tasks are taken out of the rotation for the entire playbook. If things fail, simply correct the playbook file and rerun.\n",
        "\n",
        "The goal of each task is to execute a module, with very specific arguments. Variables, as mentioned above, can be used in arguments to modules.\n",
        "\n",
        "Modules should be idempotent, that is, running a module multiple times in a sequence should have the same effect as running it just once. One way to achieve idempotency is to have a module check whether its desired final state has already been achieved, and if that state has been achieved, to exit without performing any actions. If all the modules a playbook uses are idempotent, then the playbook itself is likely to be idempotent, so re-running the playbook should be safe.\n",
        "\n",
        "The command and shell modules will typically rerun the same command again, which is totally ok if the command is something like chmod or setsebool, etc. Though there is a creates flag available which can be used to make these modules also idempotent.\n",
        "\n",
        "Every task should have a name, which is included in the output from running the playbook. This is human readable output, and so it is useful to provide good descriptions of each task step. If the name is not provided though, the string fed to ‘action’ will be used for output.\n",
        "\n",
        "Tasks can be declared using the legacy action: module options format, but it is recommended that you use the more conventional module: options format. This recommended format is used throughout the documentation, but you may encounter the older format in some playbooks."
      ]
    },
    {
      "metadata": {
        "id": "uCHIzoa4iG93",
        "colab_type": "text"
      },
      "cell_type": "markdown",
      "source": [
        "### Here is what a basic task looks like. As with most modules, the service module takes key=value arguments:"
      ]
    },
    {
      "metadata": {
        "id": "dWbK0rPtiI_v",
        "colab_type": "code",
        "colab": {}
      },
      "cell_type": "code",
      "source": [
        "tasks:\n",
        "  - name: make sure apache is running\n",
        "    service:\n",
        "      name: httpd\n",
        "      state: started"
      ],
      "execution_count": 0,
      "outputs": []
    },
    {
      "metadata": {
        "id": "leZc7qI0jCsv",
        "colab_type": "text"
      },
      "cell_type": "markdown",
      "source": [
        "### The command and shell modules are the only modules that just take a list of arguments and don’t use the key=value form. This makes them work as simply as you would expect:\n",
        "\n"
      ]
    },
    {
      "metadata": {
        "id": "lOMfbn7KiK7v",
        "colab_type": "code",
        "colab": {}
      },
      "cell_type": "code",
      "source": [
        "tasks:\n",
        "  - name: enable selinux\n",
        "    command: /sbin/setenforce 1"
      ],
      "execution_count": 0,
      "outputs": []
    },
    {
      "metadata": {
        "id": "VnYAv2DBjCPP",
        "colab_type": "text"
      },
      "cell_type": "markdown",
      "source": [
        "### The command and shell module care about return codes, so if you have a command whose successful exit code is not zero, you may wish to do this:\n",
        "\n"
      ]
    },
    {
      "metadata": {
        "id": "7rBhGu7ziOeo",
        "colab_type": "code",
        "colab": {}
      },
      "cell_type": "code",
      "source": [
        "tasks:\n",
        "  - name: run this command and ignore the result\n",
        "    shell: /usr/bin/somecommand || /bin/true"
      ],
      "execution_count": 0,
      "outputs": []
    },
    {
      "metadata": {
        "id": "ObIzrsfvjB1n",
        "colab_type": "text"
      },
      "cell_type": "markdown",
      "source": [
        "### Or this:\n",
        "\n"
      ]
    },
    {
      "metadata": {
        "id": "ea3d-vRNiPDo",
        "colab_type": "code",
        "colab": {}
      },
      "cell_type": "code",
      "source": [
        "tasks:\n",
        "  - name: run this command and ignore the result\n",
        "    shell: /usr/bin/somecommand\n",
        "    ignore_errors: True"
      ],
      "execution_count": 0,
      "outputs": []
    },
    {
      "metadata": {
        "id": "E3XV-wuMjBbd",
        "colab_type": "text"
      },
      "cell_type": "markdown",
      "source": [
        "### If the action line is getting too long for comfort you can break it on a space and indent any continuation lines:\n",
        "\n"
      ]
    },
    {
      "metadata": {
        "id": "KmGoXlSViPHh",
        "colab_type": "code",
        "colab": {}
      },
      "cell_type": "code",
      "source": [
        "tasks:\n",
        "  - name: Copy ansible inventory file to client\n",
        "    copy: src=/etc/ansible/hosts dest=/etc/ansible/hosts\n",
        "            owner=root group=root mode=0644"
      ],
      "execution_count": 0,
      "outputs": []
    },
    {
      "metadata": {
        "id": "DPtfaizEjA-V",
        "colab_type": "text"
      },
      "cell_type": "markdown",
      "source": [
        "### Variables can be used in action lines. Suppose you defined a variable called vhost in the vars section, you could do this:\n",
        "\n"
      ]
    },
    {
      "metadata": {
        "id": "oGrsdZVyiS0P",
        "colab_type": "code",
        "colab": {}
      },
      "cell_type": "code",
      "source": [
        "tasks:\n",
        "  - name: create a virtual host file for {{ vhost }}\n",
        "    template:\n",
        "      src: somefile.j2\n",
        "      dest: /etc/httpd/conf.d/{{ vhost }}"
      ],
      "execution_count": 0,
      "outputs": []
    },
    {
      "metadata": {
        "id": "ztAk1gabi_4J",
        "colab_type": "text"
      },
      "cell_type": "markdown",
      "source": [
        "### Early versions of Ansible used the following format, which still works:"
      ]
    },
    {
      "metadata": {
        "id": "GsHrgBCuiVy-",
        "colab_type": "code",
        "colab": {}
      },
      "cell_type": "code",
      "source": [
        "template:\n",
        "    src: templates/foo.j2\n",
        "    dest: /etc/foo.conf"
      ],
      "execution_count": 0,
      "outputs": []
    },
    {
      "metadata": {
        "id": "tsCo2PDNiXr7",
        "colab_type": "text"
      },
      "cell_type": "markdown",
      "source": [
        "## Handlers"
      ]
    },
    {
      "metadata": {
        "id": "nN89alcJi7-K",
        "colab_type": "text"
      },
      "cell_type": "markdown",
      "source": [
        "### Here’s an example of restarting two services when the contents of a file change, but only if the file changes:"
      ]
    },
    {
      "metadata": {
        "id": "6dNcErmZiYvW",
        "colab_type": "code",
        "colab": {}
      },
      "cell_type": "code",
      "source": [
        "- name: template configuration file\n",
        "  template:\n",
        "    src: template.j2\n",
        "    dest: /etc/foo.conf\n",
        "  notify:\n",
        "     - restart memcached\n",
        "     - restart apache"
      ],
      "execution_count": 0,
      "outputs": []
    },
    {
      "metadata": {
        "id": "WEt1RSCgi3TT",
        "colab_type": "text"
      },
      "cell_type": "markdown",
      "source": [
        "### Here’s an example handlers section:### New Section"
      ]
    },
    {
      "metadata": {
        "id": "nI6bic-ticNH",
        "colab_type": "code",
        "colab": {}
      },
      "cell_type": "code",
      "source": [
        "handlers:\n",
        "    - name: restart memcached\n",
        "      service:\n",
        "        name: memcached\n",
        "        state: restarted\n",
        "    - name: restart apache\n",
        "      service:\n",
        "        name: apache\n",
        "        state: restarted"
      ],
      "execution_count": 0,
      "outputs": []
    },
    {
      "metadata": {
        "id": "LJjtZ_NJi0UH",
        "colab_type": "text"
      },
      "cell_type": "markdown",
      "source": [
        "### As of Ansible 2.2, handlers can also “listen” to generic topics, and tasks can notify those topics as follows:"
      ]
    },
    {
      "metadata": {
        "id": "WsUADKkWieMu",
        "colab_type": "code",
        "colab": {}
      },
      "cell_type": "code",
      "source": [
        "handlers:\n",
        "    - name: restart memcached\n",
        "      service:\n",
        "        name: memcached\n",
        "        state: restarted\n",
        "      listen: \"restart web services\"\n",
        "    - name: restart apache\n",
        "      service:\n",
        "        name: apache\n",
        "        state:restarted\n",
        "      listen: \"restart web services\"\n",
        "\n",
        "tasks:\n",
        "    - name: restart everything\n",
        "      command: echo \"this task will restart the web services\"\n",
        "      notify: \"restart web services\""
      ],
      "execution_count": 0,
      "outputs": []
    },
    {
      "metadata": {
        "id": "x5D78R3-iyfy",
        "colab_type": "text"
      },
      "cell_type": "markdown",
      "source": [
        "### If you ever want to flush all the handler commands immediately you can do this:"
      ]
    },
    {
      "metadata": {
        "id": "AcLJ595liiTj",
        "colab_type": "code",
        "colab": {}
      },
      "cell_type": "code",
      "source": [
        "tasks:\n",
        "   - shell: some tasks go here\n",
        "   - meta: flush_handlers\n",
        "   - shell: some other tasks"
      ],
      "execution_count": 0,
      "outputs": []
    },
    {
      "metadata": {
        "id": "cJyjFznKii_6",
        "colab_type": "text"
      },
      "cell_type": "markdown",
      "source": [
        "## Execution"
      ]
    },
    {
      "metadata": {
        "id": "TWFO1MLzikXi",
        "colab_type": "code",
        "colab": {}
      },
      "cell_type": "code",
      "source": [
        "ansible-playbook playbook.yml -f 10"
      ],
      "execution_count": 0,
      "outputs": []
    },
    {
      "metadata": {
        "id": "z4tOQRujio0P",
        "colab_type": "text"
      },
      "cell_type": "markdown",
      "source": [
        "## Ansible-Pull\n",
        "Should you want to invert the architecture of Ansible, so that nodes check in to a central location, instead of pushing configuration out to them, you can.\n",
        "\n",
        "The ansible-pull is a small script that will checkout a repo of configuration instructions from git, and then run ansible-playbook against that content.\n",
        "\n",
        "Assuming you load balance your checkout location, ansible-pull scales essentially infinitely.\n",
        "\n",
        "Run ansible-pull --help for details.\n",
        "\n",
        "There’s also a clever playbook available to configure ansible-pull via a crontab from push mode."
      ]
    },
    {
      "metadata": {
        "id": "BZfK_94qiqXH",
        "colab_type": "text"
      },
      "cell_type": "markdown",
      "source": [
        "## Tips and Tricks\n",
        "To check the syntax of a playbook, use ansible-playbook with the --syntax-check flag. This will run the playbook file through the parser to ensure its included files, roles, etc. have no syntax problems.\n",
        "\n",
        "Look at the bottom of the playbook execution for a summary of the nodes that were targeted and how they performed. General failures and fatal “unreachable” communication attempts are kept separate in the counts.\n",
        "\n",
        "If you ever want to see detailed output from successful modules as well as unsuccessful ones, use the --verbose flag. This is available in Ansible 0.5 and later.\n",
        "\n",
        "To see what hosts would be affected by a playbook before you run it, you can do this:"
      ]
    },
    {
      "metadata": {
        "id": "eWQS_nOYiuLm",
        "colab_type": "code",
        "colab": {}
      },
      "cell_type": "code",
      "source": [
        "ansible-playbook playbook.yml --list-hosts"
      ],
      "execution_count": 0,
      "outputs": []
    },
    {
      "metadata": {
        "id": "3mG2iy07jciV",
        "colab_type": "text"
      },
      "cell_type": "markdown",
      "source": [
        "## Role Directory Structure"
      ]
    },
    {
      "metadata": {
        "id": "jTlgMfMHjdxg",
        "colab_type": "code",
        "colab": {}
      },
      "cell_type": "code",
      "source": [
        "site.yml\n",
        "webservers.yml\n",
        "fooservers.yml\n",
        "roles/\n",
        "   common/\n",
        "     tasks/\n",
        "     handlers/\n",
        "     files/\n",
        "     templates/\n",
        "     vars/\n",
        "     defaults/\n",
        "     meta/\n",
        "   webservers/\n",
        "     tasks/\n",
        "     defaults/\n",
        "     meta/"
      ],
      "execution_count": 0,
      "outputs": []
    },
    {
      "metadata": {
        "id": "j5Az_aiCjdeN",
        "colab_type": "text"
      },
      "cell_type": "markdown",
      "source": [
        "### Roles expect files to be in certain directory names.\n",
        "Roles must include at least one of these directories, however it is perfectly fine to exclude any which are not being used. When in use, each directory must contain a main.yml file, which contains the relevant content:\n",
        "\n",
        "tasks - contains the main list of tasks to be executed by the role.\n",
        "handlers - contains handlers, which may be used by this role or even anywhere outside this role.\n",
        "defaults - default variables for the role (see Variables for more information).\n",
        "vars - other variables for the role (see Variables for more information).\n",
        "files - contains files which can be deployed via this role.\n",
        "templates - contains templates which can be deployed via this role.\n",
        "meta - defines some meta data for this role. See below for more details.\n",
        "Other YAML files may be included in certain directories. For example, it is common practice to have platform-specific tasks included from the tasks/main.yml file:"
      ]
    },
    {
      "metadata": {
        "id": "BLnoOOgzjljI",
        "colab_type": "code",
        "colab": {}
      },
      "cell_type": "code",
      "source": [
        "# roles/example/tasks/main.yml\n",
        "- name: added in 2.4, previously you used 'include'\n",
        "  import_tasks: redhat.yml\n",
        "  when: ansible_os_platform|lower == 'redhat'\n",
        "- import_tasks: debian.yml\n",
        "  when: ansible_os_platform|lower == 'debian'\n",
        "\n",
        "# roles/example/tasks/redhat.yml\n",
        "- yum:\n",
        "    name: \"httpd\"\n",
        "    state: present\n",
        "\n",
        "# roles/example/tasks/debian.yml\n",
        "- apt:\n",
        "    name: \"apache2\"\n",
        "    state: present"
      ],
      "execution_count": 0,
      "outputs": []
    },
    {
      "metadata": {
        "id": "V9qoP0lmjmYz",
        "colab_type": "text"
      },
      "cell_type": "markdown",
      "source": [
        "## Using Roles"
      ]
    },
    {
      "metadata": {
        "id": "vuTWAWq2jqVD",
        "colab_type": "code",
        "colab": {}
      },
      "cell_type": "code",
      "source": [
        "---\n",
        "- hosts: webservers\n",
        "  roles:\n",
        "     - common\n",
        "     - webservers"
      ],
      "execution_count": 0,
      "outputs": []
    },
    {
      "metadata": {
        "id": "m1xI1wdkjsq2",
        "colab_type": "text"
      },
      "cell_type": "markdown",
      "source": [
        "### This designates the following behaviors, for each role ‘x’:\n",
        "\n",
        "If roles/x/tasks/main.yml exists, tasks listed therein will be added to the play.\n",
        "If roles/x/handlers/main.yml exists, handlers listed therein will be added to the play.\n",
        "If roles/x/vars/main.yml exists, variables listed therein will be added to the play.\n",
        "If roles/x/defaults/main.yml exists, variables listed therein will be added to the play.\n",
        "If roles/x/meta/main.yml exists, any role dependencies listed therein will be added to the list of roles (1.3 and later).\n",
        "Any copy, script, template or include tasks (in the role) can reference files in roles/x/{files,templates,tasks}/ (dir depends on task) without having to path them relatively or absolutely.\n",
        "When used in this manner, the order of execution for your playbook is as follows:\n",
        "\n",
        "Any pre_tasks defined in the play.\n",
        "Any handlers triggered so far will be run.\n",
        "Each role listed in roles will execute in turn. Any role dependencies defined in the roles meta/main.yml will be run first, subject to tag filtering and conditionals.\n",
        "Any tasks defined in the play.\n",
        "Any handlers triggered so far will be run.\n",
        "Any post_tasks defined in the play.\n",
        "Any handlers triggered so far will be run."
      ]
    },
    {
      "metadata": {
        "id": "9p46fRcVjxYP",
        "colab_type": "text"
      },
      "cell_type": "markdown",
      "source": [
        "### As of Ansible 2.4, you can now use roles inline with any other tasks using import_role or include_role:"
      ]
    },
    {
      "metadata": {
        "id": "4ZQQKHtVjyOz",
        "colab_type": "code",
        "colab": {}
      },
      "cell_type": "code",
      "source": [
        "---\n",
        "\n",
        "- hosts: webservers\n",
        "  tasks:\n",
        "  - debug:\n",
        "      msg: \"before we run our role\"\n",
        "  - import_role:\n",
        "      name: example\n",
        "  - include_role:\n",
        "      name: example\n",
        "  - debug:\n",
        "      msg: \"after we ran our role\""
      ],
      "execution_count": 0,
      "outputs": []
    },
    {
      "metadata": {
        "id": "16nDFv9ajz7Y",
        "colab_type": "text"
      },
      "cell_type": "markdown",
      "source": [
        "### The name used for the role can be a simple name (see Role Search Path below), or it can be a fully qualified path:"
      ]
    },
    {
      "metadata": {
        "id": "oZZ88Qlxj3OP",
        "colab_type": "code",
        "colab": {}
      },
      "cell_type": "code",
      "source": [
        "---\n",
        "\n",
        "- hosts: webservers\n",
        "  roles:\n",
        "    - { role: '/path/to/my/roles/common' }"
      ],
      "execution_count": 0,
      "outputs": []
    },
    {
      "metadata": {
        "id": "hV9-fZgDj6AG",
        "colab_type": "text"
      },
      "cell_type": "markdown",
      "source": [
        "### Roles can accept parameters:"
      ]
    },
    {
      "metadata": {
        "id": "b46V6nW5j7Iw",
        "colab_type": "code",
        "colab": {}
      },
      "cell_type": "code",
      "source": [
        "---\n",
        "\n",
        "- hosts: webservers\n",
        "  roles:\n",
        "    - common\n",
        "    - { role: foo_app_instance, dir: '/opt/a', app_port: 5000 }\n",
        "    - { role: foo_app_instance, dir: '/opt/b', app_port: 5001 }"
      ],
      "execution_count": 0,
      "outputs": []
    },
    {
      "metadata": {
        "id": "J9XoyZBYj8xI",
        "colab_type": "text"
      },
      "cell_type": "markdown",
      "source": [
        "### Or, using the newer syntax:\n",
        "\n"
      ]
    },
    {
      "metadata": {
        "id": "hdsYk-rNkAyD",
        "colab_type": "code",
        "colab": {}
      },
      "cell_type": "code",
      "source": [
        "---\n",
        "\n",
        "- hosts: webservers\n",
        "  tasks:\n",
        "  - include_role:\n",
        "       name: foo_app_instance\n",
        "    vars:\n",
        "      dir: '/opt/a'\n",
        "      app_port: 5000\n",
        "  ..."
      ],
      "execution_count": 0,
      "outputs": []
    },
    {
      "metadata": {
        "id": "0TOgiwKYkCoK",
        "colab_type": "text"
      },
      "cell_type": "markdown",
      "source": [
        "### You can conditionally execute a role. This is not generally recommended with the classic syntax, but is common when using import_role or include_role:\n",
        "\n"
      ]
    },
    {
      "metadata": {
        "id": "N0n0dxl7kEjZ",
        "colab_type": "code",
        "colab": {}
      },
      "cell_type": "code",
      "source": [
        "---\n",
        "\n",
        "- hosts: webservers\n",
        "  tasks:\n",
        "  - include_role:\n",
        "      name: some_role\n",
        "    when: \"ansible_os_family == 'RedHat'\""
      ],
      "execution_count": 0,
      "outputs": []
    },
    {
      "metadata": {
        "id": "qQFqLmAMkGuu",
        "colab_type": "text"
      },
      "cell_type": "markdown",
      "source": [
        "### Finally, you may wish to assign tags to the roles you specify. You can do so inline:\n",
        "\n"
      ]
    },
    {
      "metadata": {
        "id": "07Af5oqckIm6",
        "colab_type": "code",
        "colab": {}
      },
      "cell_type": "code",
      "source": [
        "---\n",
        "\n",
        "- hosts: webservers\n",
        "  roles:\n",
        "    - { role: foo, tags: [\"bar\", \"baz\"] }"
      ],
      "execution_count": 0,
      "outputs": []
    },
    {
      "metadata": {
        "id": "hwA1xniekLhk",
        "colab_type": "text"
      },
      "cell_type": "markdown",
      "source": [
        "### Or, again, using the newer syntax:\n",
        "\n"
      ]
    },
    {
      "metadata": {
        "id": "KDSe2ByckNTr",
        "colab_type": "code",
        "colab": {}
      },
      "cell_type": "code",
      "source": [
        "---\n",
        "\n",
        "- hosts: webservers\n",
        "  tasks:\n",
        "  - import_role:\n",
        "      name: foo\n",
        "    tags:\n",
        "    - bar\n",
        "    - baz"
      ],
      "execution_count": 0,
      "outputs": []
    },
    {
      "metadata": {
        "id": "MvbxhNhTkUC3",
        "colab_type": "text"
      },
      "cell_type": "markdown",
      "source": [
        "## Role Duplication and Execution\n",
        "Ansible will only allow a role to execute once, even if defined multiple times, if the parameters defined on the role are not different for each definition. For example:\n",
        "\n",
        "---\n",
        "- hosts: webservers\n",
        "  roles:\n",
        "  - foo\n",
        "  - foo\n",
        "Given the above, the role foo will only be run once.\n",
        "\n",
        "To make roles run more than once, there are two options:\n",
        "\n",
        "Pass different parameters in each role definition.\n",
        "Add allow_duplicates: true to the meta/main.yml file for the role.\n",
        "Example 1 - passing different parameters:\n",
        "\n",
        "---\n",
        "- hosts: webservers\n",
        "  roles:\n",
        "  - { role: foo, message: \"first\" }\n",
        "  - { role: foo, message: \"second\" }\n",
        "In this example, because each role definition has different parameters, foo will run twice.\n",
        "\n",
        "Example 2 - using allow_duplicates: true:\n",
        "\n",
        "### playbook.yml\n",
        "---\n",
        "- hosts: webservers\n",
        "  roles:\n",
        "  - foo\n",
        "  - foo\n",
        "\n",
        "#### roles/foo/meta/main.yml\n",
        "---\n",
        "allow_duplicates: true\n",
        "In this example, foo will run twice because we have explicitly enabled it to do so.\n",
        "\n",
        "Role Default Variables\n",
        "New in version 1.3.\n",
        "\n",
        "Role default variables allow you to set default variables for included or dependent roles (see below). To create defaults, simply add a defaults/main.yml file in your role directory. These variables will have the lowest priority of any variables available, and can be easily overridden by any other variable, including inventory variables.\n",
        "\n",
        "Role Dependencies\n",
        "New in version 1.3.\n",
        "\n",
        "Role dependencies allow you to automatically pull in other roles when using a role. Role dependencies are stored in the meta/main.yml file contained within the role directory, as noted above. This file should contain a list of roles and parameters to insert before the specified role, such as the following in an example roles/myapp/meta/main.yml:\n",
        "\n",
        "---\n",
        "dependencies:\n",
        "  - { role: common, some_parameter: 3 }\n",
        "  - { role: apache, apache_port: 80 }\n",
        "  - { role: postgres, dbname: blarg, other_parameter: 12 }\n",
        "Note\n",
        "\n",
        "Role dependencies must use the classic role definition style.\n",
        "\n",
        "Role dependencies are always executed before the role that includes them, and may be recursive. Dependencies also follow the duplication rules specified above. If another role also lists it as a dependency, it will not be run again based on the same rules given above.\n",
        "\n",
        "Note\n",
        "\n",
        "Always remember that when using allow_duplicates: true, it needs to be in the dependent role’s meta/main.yml, not the parent.\n",
        "\n",
        "For example, a role named car depends on a role named wheel as follows:\n",
        "\n",
        "---\n",
        "dependencies:\n",
        "- { role: wheel, n: 1 }\n",
        "- { role: wheel, n: 2 }\n",
        "- { role: wheel, n: 3 }\n",
        "- { role: wheel, n: 4 }\n",
        "And the wheel role depends on two roles: tire and brake. The meta/main.yml for wheel would then contain the following:\n",
        "\n",
        "---\n",
        "dependencies:\n",
        "- { role: tire }\n",
        "- { role: brake }\n",
        "And the meta/main.yml for tire and brake would contain the following:\n",
        "\n",
        "---\n",
        "allow_duplicates: true\n",
        "The resulting order of execution would be as follows:\n",
        "\n",
        "tire(n=1)\n",
        "brake(n=1)\n",
        "wheel(n=1)\n",
        "tire(n=2)\n",
        "brake(n=2)\n",
        "wheel(n=2)\n",
        "...\n",
        "car\n",
        "Note that we did not have to use allow_duplicates: true for wheel, because each instance defined by car uses different parameter values.\n",
        "\n",
        "Note\n",
        "\n",
        "Variable inheritance and scope are detailed in the Variables.\n",
        "\n",
        "Embedding Modules and Plugins In Roles\n",
        "This is an advanced topic that should not be relevant for most users.\n",
        "\n",
        "If you write a custom module (see Developing Modules) or a plugin (see Developing Plugins), you may wish to distribute it as part of a role. Generally speaking, Ansible as a project is very interested in taking high-quality modules into ansible core for inclusion, so this shouldn’t be the norm, but it’s quite easy to do.\n",
        "\n",
        "A good example for this is if you worked at a company called AcmeWidgets, and wrote an internal module that helped configure your internal software, and you wanted other people in your organization to easily use this module – but you didn’t want to tell everyone how to configure their Ansible library path.\n",
        "\n",
        "Alongside the ‘tasks’ and ‘handlers’ structure of a role, add a directory named ‘library’. In this ‘library’ directory, then include the module directly inside of it.\n",
        "\n",
        "Assuming you had this:\n",
        "\n",
        "roles/\n",
        "   my_custom_modules/\n",
        "       library/\n",
        "          module1\n",
        "          module2\n",
        "The module will be usable in the role itself, as well as any roles that are called after this role, as follows:\n",
        "\n",
        "- hosts: webservers\n",
        "  roles:\n",
        "    - my_custom_modules\n",
        "    - some_other_role_using_my_custom_modules\n",
        "    - yet_another_role_using_my_custom_modules\n",
        "This can also be used, with some limitations, to modify modules in Ansible’s core distribution, such as to use development versions of modules before they are released in production releases. This is not always advisable as API signatures may change in core components, however, and is not always guaranteed to work. It can be a handy way of carrying a patch against a core module, however, should you have good reason for this. Naturally the project prefers that contributions be directed back to github whenever possible via a pull request.\n",
        "\n",
        "The same mechanism can be used to embed and distribute plugins in a role, using the same schema. For example, for a filter plugin:\n",
        "\n",
        "roles/\n",
        "   my_custom_filter/\n",
        "       filter_plugins\n",
        "          filter1\n",
        "          filter2\n",
        "They can then be used in a template or a jinja template in any role called after ‘my_custom_filter’\n",
        "\n",
        "Role Search Path\n",
        "Ansible will search for roles in the following way:\n",
        "\n",
        "A roles/ directory, relative to the playbook file.\n",
        "By default, in /etc/ansible/roles\n",
        "In Ansible 1.4 and later you can configure an additional roles_path to search for roles. Use this to check all of your common roles out to one location, and share them easily between multiple playbook projects. See Configuring Ansible for details about how to set this up in ansible.cfg."
      ]
    }
  ]
}